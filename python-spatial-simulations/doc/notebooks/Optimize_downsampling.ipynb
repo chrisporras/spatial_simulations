{
 "cells": [
  {
   "cell_type": "markdown",
   "metadata": {},
   "source": [
    "# Compare single-loop and double-loop downsampling simulation speeds"
   ]
  },
  {
   "cell_type": "markdown",
   "metadata": {},
   "source": [
    "#### Chris Porras"
   ]
  },
  {
   "cell_type": "code",
   "execution_count": 64,
   "metadata": {},
   "outputs": [],
   "source": [
    "import numpy as np\n",
    "import matplotlib.pyplot as plt\n",
    "import seaborn as sns\n",
    "rc = {'lines.linewidth': 3, \n",
    "      'axes.labelsize': 18, \n",
    "      'axes.titlesize': 18, \n",
    "      'axes.facecolor': 'DFDFE5',\n",
    "      'axes.font': 'arial'}\n",
    "sns.set_context('notebook', rc=rc)\n",
    "sns.set_style('darkgrid', rc=rc)\n",
    "sns.set_palette('colorblind')\n",
    "%matplotlib inline\n",
    "from scipy.ndimage.filters import laplace"
   ]
  },
  {
   "cell_type": "code",
   "execution_count": 265,
   "metadata": {},
   "outputs": [],
   "source": [
    "## Initialize dict of all kwargs\n",
    "## to be updated by just redefining vars\n",
    "## i.e. change mu by setting mu = 10**-5\n",
    "## not by editing dict directly\n",
    "\n",
    "kwargs={'mu':10**-6,\n",
    "      's':10**-2,\n",
    "      'm':10**-1,\n",
    "      'pop_size':10**4,\n",
    "      'dims':(2,2),\n",
    "      'num_intervals':100,\n",
    "      'n': 2,\n",
    "      'sigma':1}\n"
   ]
  },
  {
   "cell_type": "markdown",
   "metadata": {},
   "source": [
    "Store parameters in a single dictionary inst"
   ]
  },
  {
   "cell_type": "code",
   "execution_count": 262,
   "metadata": {},
   "outputs": [],
   "source": [
    "def update_kwargs():\n",
    "    for key in kwargs.keys():\n",
    "        if key in globals() and globals()[key] != kwargs[key]:\n",
    "            kwargs[key] = globals()[key]"
   ]
  },
  {
   "cell_type": "code",
   "execution_count": 263,
   "metadata": {},
   "outputs": [],
   "source": [
    "def calculate_f(f,**kwargs):\n",
    "    #Wright-Fisher diffusion w/Stepping Stone migration\n",
    "    df = mu*(1-2*f)-s*f*(1-f) \\\n",
    "    +m*laplace(f,mode='wrap')\n",
    "    #bounds allele frequencies\n",
    "    p = np.clip(a= f + df ,a_min=0,a_max=1)\n",
    "    #genetic drift sampling\n",
    "    f= np.random.binomial(pop_size,p)/pop_size\n",
    "    return f"
   ]
  },
  {
   "cell_type": "code",
   "execution_count": 264,
   "metadata": {},
   "outputs": [],
   "source": [
    "def downsample_f(**kwargs):\n",
    "    update_kwargs()\n",
    "    output = np.zeros(tuple([num_intervals])+dims)\n",
    "    interval = int(1/s)\n",
    "    num_gens = interval * num_intervals\n",
    "    f = np.ones(dims)/pop_size\n",
    "    for i in range(num_gens):\n",
    "        new_f = calculate_f(f,**kwargs)\n",
    "        f = new_f\n",
    "        if (i + 1) % interval == 0:\n",
    "            output[i//interval] = f\n",
    "    return output"
   ]
  },
  {
   "cell_type": "markdown",
   "metadata": {},
   "source": [
    "#### Optimizing downsampling in single-loop"
   ]
  },
  {
   "cell_type": "code",
   "execution_count": 850,
   "metadata": {
    "scrolled": true
   },
   "outputs": [
    {
     "name": "stdout",
     "output_type": "stream",
     "text": [
      "7.41 s ± 83 ms per loop (mean ± std. dev. of 7 runs, 1 loop each)\n"
     ]
    }
   ],
   "source": [
    "%%timeit\n",
    "\n",
    "## Old double loop method:\n",
    "np.random.seed(2)\n",
    "\n",
    "# Population parameters\n",
    "pop_size = 10**2\n",
    "mu = 10**-1\n",
    "m = 10**-1\n",
    "num_reps = 1\n",
    "num_gen = 10**2\n",
    "dims = (50,1)\n",
    "s=10**-2\n",
    "\n",
    "num_intervals = 1000\n",
    "\n",
    "y = np.array((np.repeat(np.arange(num_intervals-1),(int(1/s)-1)),\n",
    "             np.ravel([np.arange(int(1/s)-1)]*(num_intervals-1)))).T\n",
    "\n",
    "q = np.zeros((num_intervals,num_reps)+dims)\n",
    "q[0] = 1/pop_size\n",
    "f = np.zeros((int(1/s),num_reps)+dims)\n",
    "\n",
    "for i,j in y:\n",
    "    if j == 0:\n",
    "        f[j] = q[i]\n",
    "\n",
    "    #Wright-Fisher diffusion w/Stepping Stone migration\n",
    "    df = mu*(1-2*f[j])-s*f[j]*(1-f[j]) \\\n",
    "    +m*laplace(f[j],mode='wrap')\n",
    "    #bounds allele frequencies\n",
    "    p = np.clip(a= f[j] + df ,a_min=0,a_max=1)\n",
    "    #genetic drift sampling\n",
    "    f[j+1]= np.random.binomial(pop_size,p)/pop_size\n",
    "    \n",
    "    if j+1 == int(1/s)-1:\n",
    "        q[i+1] = f[-1]"
   ]
  },
  {
   "cell_type": "code",
   "execution_count": 267,
   "metadata": {},
   "outputs": [
    {
     "name": "stdout",
     "output_type": "stream",
     "text": [
      "5.36 ms ± 78.2 µs per loop (mean ± std. dev. of 7 runs, 100 loops each)\n"
     ]
    }
   ],
   "source": [
    "%%timeit\n",
    "\n",
    "np.random.seed(2)\n",
    "\n",
    "# Population parameters\n",
    "pop_size = 10**2\n",
    "mu = 10**-1\n",
    "m = 10**-1\n",
    "num_reps = 1\n",
    "num_gen = 10**2\n",
    "dims = (50,1)\n",
    "s=10**-2\n",
    "\n",
    "num_intervals = 1000\n",
    "\n",
    "output = downsample_f(**kwargs)"
   ]
  },
  {
   "cell_type": "markdown",
   "metadata": {},
   "source": [
    "Single loop much faster!"
   ]
  },
  {
   "cell_type": "code",
   "execution_count": null,
   "metadata": {},
   "outputs": [],
   "source": []
  }
 ],
 "metadata": {
  "kernelspec": {
   "display_name": "Python 3",
   "language": "python",
   "name": "python3"
  },
  "language_info": {
   "codemirror_mode": {
    "name": "ipython",
    "version": 3
   },
   "file_extension": ".py",
   "mimetype": "text/x-python",
   "name": "python",
   "nbconvert_exporter": "python",
   "pygments_lexer": "ipython3",
   "version": "3.6.5"
  }
 },
 "nbformat": 4,
 "nbformat_minor": 2
}
