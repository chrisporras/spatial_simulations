{
 "cells": [
  {
   "cell_type": "markdown",
   "metadata": {},
   "source": [
    "# Compute missing heritability in simulated sampling\n",
    "With 1D simulations"
   ]
  },
  {
   "cell_type": "code",
   "execution_count": 2,
   "metadata": {},
   "outputs": [],
   "source": [
    "import glob\n",
    "import numpy as np\n",
    "import pandas as pd\n",
    "import matplotlib as mpl\n",
    "import matplotlib.pyplot as plt\n",
    "\n",
    "\n",
    "mpl.style.use(\"seaborn\")\n",
    "%matplotlib inline"
   ]
  },
  {
   "cell_type": "markdown",
   "metadata": {},
   "source": [
    "## Make df to access simulations"
   ]
  },
  {
   "cell_type": "code",
   "execution_count": 9,
   "metadata": {},
   "outputs": [
    {
     "name": "stdout",
     "output_type": "stream",
     "text": [
      "Number of simulations:  18\n"
     ]
    }
   ],
   "source": [
    "# 2D sims\n",
    "# label = \"082219\"\n",
    "\n",
    "# 1D sims\n",
    "label = '021820'\n",
    "\n",
    "filenames = glob.glob(('../../../data/output/*%s*')%(label))\n",
    "print(\"Number of simulations: \", len(filenames))"
   ]
  },
  {
   "cell_type": "code",
   "execution_count": 13,
   "metadata": {},
   "outputs": [],
   "source": [
    "df = pd.DataFrame(columns=['filename','pop_size','mu','s','m'],\n",
    "                  data={'filename':filenames})"
   ]
  },
  {
   "cell_type": "code",
   "execution_count": 14,
   "metadata": {},
   "outputs": [],
   "source": [
    "def filename_parser(filename,params):\n",
    "    return [float(filename.split((\"_%s_\")%(i))[1].split(\"_\")[0]) for i in params]"
   ]
  },
  {
   "cell_type": "code",
   "execution_count": 15,
   "metadata": {},
   "outputs": [],
   "source": [
    "for i in range(df.shape[0]):\n",
    "    df.iloc[i,1:] = filename_parser(df.iloc[i,0],df.columns[1:]) "
   ]
  },
  {
   "cell_type": "code",
   "execution_count": 16,
   "metadata": {},
   "outputs": [],
   "source": [
    "### Make new columns for important summary stats\n",
    "df['N*mu']= df['pop_size']*df['mu']\n",
    "df['N*s']= df['pop_size']*df['s']\n",
    "df['mu/s']= df['mu']/(df['s'] + np.finfo(float).eps)\n",
    "df['dc']= (df['m']/(df['s']+np.finfo(float).eps))**(1/2)"
   ]
  },
  {
   "cell_type": "code",
   "execution_count": 17,
   "metadata": {},
   "outputs": [
    {
     "data": {
      "text/html": [
       "<div>\n",
       "<style scoped>\n",
       "    .dataframe tbody tr th:only-of-type {\n",
       "        vertical-align: middle;\n",
       "    }\n",
       "\n",
       "    .dataframe tbody tr th {\n",
       "        vertical-align: top;\n",
       "    }\n",
       "\n",
       "    .dataframe thead th {\n",
       "        text-align: right;\n",
       "    }\n",
       "</style>\n",
       "<table border=\"1\" class=\"dataframe\">\n",
       "  <thead>\n",
       "    <tr style=\"text-align: right;\">\n",
       "      <th></th>\n",
       "      <th>filename</th>\n",
       "      <th>pop_size</th>\n",
       "      <th>mu</th>\n",
       "      <th>s</th>\n",
       "      <th>m</th>\n",
       "      <th>N*mu</th>\n",
       "      <th>N*s</th>\n",
       "      <th>mu/s</th>\n",
       "      <th>dc</th>\n",
       "    </tr>\n",
       "  </thead>\n",
       "  <tbody>\n",
       "    <tr>\n",
       "      <th>9</th>\n",
       "      <td>../../data/output/SS_WF_freqs_pop_size_100000....</td>\n",
       "      <td>100000</td>\n",
       "      <td>0</td>\n",
       "      <td>0.001</td>\n",
       "      <td>0.001</td>\n",
       "      <td>0</td>\n",
       "      <td>100</td>\n",
       "      <td>0</td>\n",
       "      <td>1</td>\n",
       "    </tr>\n",
       "    <tr>\n",
       "      <th>15</th>\n",
       "      <td>../../data/output/SS_WF_freqs_pop_size_100000....</td>\n",
       "      <td>100000</td>\n",
       "      <td>0</td>\n",
       "      <td>0.001</td>\n",
       "      <td>0.01</td>\n",
       "      <td>0</td>\n",
       "      <td>100</td>\n",
       "      <td>0</td>\n",
       "      <td>3.16228</td>\n",
       "    </tr>\n",
       "    <tr>\n",
       "      <th>17</th>\n",
       "      <td>../../data/output/SS_WF_freqs_pop_size_100000....</td>\n",
       "      <td>100000</td>\n",
       "      <td>0</td>\n",
       "      <td>0.001</td>\n",
       "      <td>0.1</td>\n",
       "      <td>0</td>\n",
       "      <td>100</td>\n",
       "      <td>0</td>\n",
       "      <td>10</td>\n",
       "    </tr>\n",
       "    <tr>\n",
       "      <th>2</th>\n",
       "      <td>../../data/output/SS_WF_freqs_pop_size_100000....</td>\n",
       "      <td>100000</td>\n",
       "      <td>0</td>\n",
       "      <td>0.01</td>\n",
       "      <td>0.001</td>\n",
       "      <td>0</td>\n",
       "      <td>1000</td>\n",
       "      <td>0</td>\n",
       "      <td>0.316228</td>\n",
       "    </tr>\n",
       "    <tr>\n",
       "      <th>1</th>\n",
       "      <td>../../data/output/SS_WF_freqs_pop_size_1000000...</td>\n",
       "      <td>1e+06</td>\n",
       "      <td>0</td>\n",
       "      <td>0.001</td>\n",
       "      <td>0.001</td>\n",
       "      <td>0</td>\n",
       "      <td>1000</td>\n",
       "      <td>0</td>\n",
       "      <td>1</td>\n",
       "    </tr>\n",
       "  </tbody>\n",
       "</table>\n",
       "</div>"
      ],
      "text/plain": [
       "                                             filename pop_size mu      s  \\\n",
       "9   ../../data/output/SS_WF_freqs_pop_size_100000....   100000  0  0.001   \n",
       "15  ../../data/output/SS_WF_freqs_pop_size_100000....   100000  0  0.001   \n",
       "17  ../../data/output/SS_WF_freqs_pop_size_100000....   100000  0  0.001   \n",
       "2   ../../data/output/SS_WF_freqs_pop_size_100000....   100000  0   0.01   \n",
       "1   ../../data/output/SS_WF_freqs_pop_size_1000000...    1e+06  0  0.001   \n",
       "\n",
       "        m N*mu   N*s mu/s        dc  \n",
       "9   0.001    0   100    0         1  \n",
       "15   0.01    0   100    0   3.16228  \n",
       "17    0.1    0   100    0        10  \n",
       "2   0.001    0  1000    0  0.316228  \n",
       "1   0.001    0  1000    0         1  "
      ]
     },
     "execution_count": 17,
     "metadata": {},
     "output_type": "execute_result"
    }
   ],
   "source": [
    "df.sort_values(by=['N*mu','N*s','mu/s','dc']).head()"
   ]
  },
  {
   "cell_type": "markdown",
   "metadata": {},
   "source": [
    "## Apply sampling filter"
   ]
  },
  {
   "cell_type": "code",
   "execution_count": 18,
   "metadata": {},
   "outputs": [],
   "source": [
    "from scipy.ndimage import gaussian_filter"
   ]
  },
  {
   "cell_type": "code",
   "execution_count": 19,
   "metadata": {},
   "outputs": [],
   "source": [
    "def sample_f(f,sigma):\n",
    "    F = np.zeros(f.shape)\n",
    "    ## Need to convolve array along spatial axes\n",
    "    ## so iterate over time axis\n",
    "    for i in range(f.shape[0]):\n",
    "        F[i] = gaussian_filter(f[i],sigma=sigma,mode = \"wrap\")\n",
    "    return F"
   ]
  },
  {
   "cell_type": "markdown",
   "metadata": {},
   "source": [
    "## Compute missing heritability in selected simulations"
   ]
  },
  {
   "cell_type": "code",
   "execution_count": 193,
   "metadata": {},
   "outputs": [],
   "source": [
    "def compute_H_var(f, focal_x_pos = 0, \n",
    "                  focal_y_pos = 0, \n",
    "                  sigma = 1, n = 100):\n",
    "    # underlying frequency at focal deme position \n",
    "    focal_f = f[:,focal_x_pos,focal_y_pos]\n",
    "    # sample from f with gaussian filter\n",
    "    F = sample_f(f,sigma)\n",
    "    # Compute sampling probability with sample size n\n",
    "    P_samp = 1-F**n - (1-F)**n \n",
    "    # Move focal deme location to idx[0,0] corner of sampling map\n",
    "    P_samp = np.roll(P_samp, (-focal_x_pos,-focal_y_pos), axis=(1,2))\n",
    "    # Missing heritability calculation \n",
    "    exp_var = 0 # expected_variance in focal deme\n",
    "    H = 0 # Heritability\n",
    "    # Sum over replicates \n",
    "    for i in range(f.shape[0]):\n",
    "        H += (focal_f[i]*(1-focal_f[i])*P_samp[i])\n",
    "        exp_var += (focal_f[i])*(1-focal_f[i])\n",
    "    # fraction of focal deme variance captured in sampling\n",
    "    H_var = H / exp_var\n",
    "    \n",
    "    return H_var"
   ]
  },
  {
   "cell_type": "markdown",
   "metadata": {},
   "source": [
    "### Choose simulations to compute H_var"
   ]
  },
  {
   "cell_type": "code",
   "execution_count": 21,
   "metadata": {},
   "outputs": [
    {
     "data": {
      "text/html": [
       "<div>\n",
       "<style scoped>\n",
       "    .dataframe tbody tr th:only-of-type {\n",
       "        vertical-align: middle;\n",
       "    }\n",
       "\n",
       "    .dataframe tbody tr th {\n",
       "        vertical-align: top;\n",
       "    }\n",
       "\n",
       "    .dataframe thead th {\n",
       "        text-align: right;\n",
       "    }\n",
       "</style>\n",
       "<table border=\"1\" class=\"dataframe\">\n",
       "  <thead>\n",
       "    <tr style=\"text-align: right;\">\n",
       "      <th></th>\n",
       "      <th>filename</th>\n",
       "      <th>pop_size</th>\n",
       "      <th>mu</th>\n",
       "      <th>s</th>\n",
       "      <th>m</th>\n",
       "      <th>N*mu</th>\n",
       "      <th>N*s</th>\n",
       "      <th>mu/s</th>\n",
       "      <th>dc</th>\n",
       "    </tr>\n",
       "  </thead>\n",
       "  <tbody>\n",
       "    <tr>\n",
       "      <th>0</th>\n",
       "      <td>../../data/output/SS_WF_freqs_pop_size_1000000...</td>\n",
       "      <td>1e+06</td>\n",
       "      <td>0</td>\n",
       "      <td>0.001</td>\n",
       "      <td>0.1</td>\n",
       "      <td>0</td>\n",
       "      <td>1000</td>\n",
       "      <td>0</td>\n",
       "      <td>10</td>\n",
       "    </tr>\n",
       "    <tr>\n",
       "      <th>1</th>\n",
       "      <td>../../data/output/SS_WF_freqs_pop_size_100000....</td>\n",
       "      <td>100000</td>\n",
       "      <td>0</td>\n",
       "      <td>0.001</td>\n",
       "      <td>0.1</td>\n",
       "      <td>0</td>\n",
       "      <td>100</td>\n",
       "      <td>0</td>\n",
       "      <td>10</td>\n",
       "    </tr>\n",
       "  </tbody>\n",
       "</table>\n",
       "</div>"
      ],
      "text/plain": [
       "                                            filename pop_size mu      s    m  \\\n",
       "0  ../../data/output/SS_WF_freqs_pop_size_1000000...    1e+06  0  0.001  0.1   \n",
       "1  ../../data/output/SS_WF_freqs_pop_size_100000....   100000  0  0.001  0.1   \n",
       "\n",
       "  N*mu   N*s mu/s  dc  \n",
       "0    0  1000    0  10  \n",
       "1    0   100    0  10  "
      ]
     },
     "execution_count": 21,
     "metadata": {},
     "output_type": "execute_result"
    }
   ],
   "source": [
    "test_sims= pd.DataFrame.reset_index(df[(df['dc'] > 9) & (df['dc'] < 11) & \\\n",
    "                (df['N*mu']<1) & (df['N*s'] >= 1) & (df['pop_size'] > 100)],drop=True)\n",
    "test_sims"
   ]
  },
  {
   "cell_type": "code",
   "execution_count": 22,
   "metadata": {},
   "outputs": [
    {
     "data": {
      "text/plain": [
       "(1000, 50, 1)"
      ]
     },
     "execution_count": 22,
     "metadata": {},
     "output_type": "execute_result"
    }
   ],
   "source": [
    "my_f = test_sims.iloc[1] \n",
    "f = np.load(my_f.filename)\n",
    "f.shape"
   ]
  },
  {
   "cell_type": "markdown",
   "metadata": {},
   "source": [
    "### Compute H over a range of focal demes\n"
   ]
  },
  {
   "cell_type": "code",
   "execution_count": 237,
   "metadata": {
    "scrolled": false
   },
   "outputs": [],
   "source": [
    "n = 100\n",
    "L = f.shape[1]\n",
    "\n",
    "sig_list = np.arange(L)\n",
    "\n",
    "focal_x_pos = np.arange(L)\n",
    "focal_y_pos = 0\n",
    "\n",
    "demes = np.arange(L)\n",
    "\n",
    "H_var_arr = np.zeros(tuple([len(focal_x_pos)])+f.shape[1:])\n",
    "centered_H_arr = np.zeros(tuple([len(sig_list)]) + f.shape[1:])\n",
    "\n",
    "for s, sigma in enumerate(sig_list):\n",
    "    for i, pos in enumerate(focal_x_pos):\n",
    "        H_var_arr[i] = compute_H_var(f, focal_x_pos = pos, \n",
    "                              focal_y_pos = focal_y_pos,\n",
    "                             sigma = sigma, n = n)\n",
    "\n",
    "    centered_H_arr[s] = np.roll(np.mean(H_var_arr,axis=0),L//2)\n",
    "    "
   ]
  },
  {
   "cell_type": "markdown",
   "metadata": {},
   "source": [
    "### Plot of Heritability vs. distance from focal deme\n"
   ]
  },
  {
   "cell_type": "code",
   "execution_count": 240,
   "metadata": {},
   "outputs": [
    {
     "data": {
      "image/png": "[encoded data removed]",
      "text/plain": [
       "<Figure size 720x360 with 1 Axes>"
      ]
     },
     "metadata": {},
     "output_type": "display_data"
    }
   ],
   "source": [
    "sig_list = np.arange(centered_H_arr.shape[0])\n",
    "\n",
    "fig, ax = plt.subplots(1, figsize= (10,5))\n",
    "\n",
    "for s, sigma in enumerate(sig_list):\n",
    "    centered_H = centered_H_arr[s]\n",
    "\n",
    "    ax.plot(centered_H,alpha = (sigma)/len(sig_list), \n",
    "            color = \"black\")\n",
    "\n",
    "ax.set_title(\"Fraction of Heritabilty captured averaged over distance to focal deme\")\n",
    "\n",
    "plt.show()\n"
   ]
  },
  {
   "cell_type": "code",
   "execution_count": 5,
   "metadata": {},
   "outputs": [
    {
     "data": {
      "text/plain": [
       "(50, 50, 1)"
      ]
     },
     "execution_count": 5,
     "metadata": {},
     "output_type": "execute_result"
    }
   ],
   "source": [
    "x = np.load(\"../../../doc/test_results/missing_heritability/H_var_centered_pop_size_100000.0_mu_0_s_0.001_m_0.1_label_021820.npy\")\n",
    "x.shape"
   ]
  },
  {
   "cell_type": "code",
   "execution_count": null,
   "metadata": {},
   "outputs": [],
   "source": []
  }
 ],
 "metadata": {
  "kernelspec": {
   "display_name": "Python 3",
   "language": "python",
   "name": "python3"
  },
  "language_info": {
   "codemirror_mode": {
    "name": "ipython",
    "version": 3
   },
   "file_extension": ".py",
   "mimetype": "text/x-python",
   "name": "python",
   "nbconvert_exporter": "python",
   "pygments_lexer": "ipython3",
   "version": "3.6.5"
  }
 },
 "nbformat": 4,
 "nbformat_minor": 2
}
