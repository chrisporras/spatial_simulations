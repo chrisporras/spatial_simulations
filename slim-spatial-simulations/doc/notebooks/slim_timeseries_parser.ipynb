{
 "cells": [
  {
   "cell_type": "markdown",
   "metadata": {},
   "source": [
    "# `SLiM` Timeseries Parser"
   ]
  },
  {
   "cell_type": "code",
   "execution_count": null,
   "metadata": {},
   "outputs": [],
   "source": [
    "\"\"\"\n",
    "Parses output from SLiM-formatted allele frequencies at equilibrium\n",
    "Returns a single-line .csv with the frequencies for each deme\n",
    "\"\"\""
   ]
  },
  {
   "cell_type": "code",
   "execution_count": 2,
   "metadata": {},
   "outputs": [],
   "source": [
    "import numpy as np\n",
    "import glob"
   ]
  },
  {
   "cell_type": "markdown",
   "metadata": {},
   "source": [
    "### Grab output files for parser"
   ]
  },
  {
   "cell_type": "code",
   "execution_count": 3,
   "metadata": {},
   "outputs": [],
   "source": [
    "def output_grab(output_dir, nameflag):\n",
    "    allslimoutputfile = glob.glob(output_dir)\n",
    "    slimoutputfile = []\n",
    "    for i in range(len(allslimoutputfile)):\n",
    "        if len(allslimoutputfile[i].split(nameflag)) > 1:\n",
    "            slimoutputfile.append(allslimoutputfile[i])\n",
    "    return slimoutputfile"
   ]
  },
  {
   "cell_type": "markdown",
   "metadata": {},
   "source": [
    "### def timeseries_freqvecmake()"
   ]
  },
  {
   "cell_type": "code",
   "execution_count": 7,
   "metadata": {},
   "outputs": [],
   "source": [
    "def timeseries_freqvecmake(slimoutputfile,timeseries_dir,parseflag):\n",
    "    numdemes = int(slimoutputfile.split(\"numdemes_\")[1].split(\"_\")[0])\n",
    "    with open(slimoutputfile) as input_data:\n",
    "        freqvec =[]\n",
    "        valueline = 0\n",
    "        for line in input_data:\n",
    "            if len(line.split(\": \")) > 1 :  # Skips text before the beginning of the genomes block:\n",
    "                if line.split(\": \")[0] != \"#Elapsed time\":\n",
    "                    valueline = 1\n",
    "                    continue \n",
    "            if valueline == 1:\n",
    "                freqslist = line.split()\n",
    "                freq = []\n",
    "                if freqslist[0] != \"float(0)\":\n",
    "                    freq = np.sum([float(i) for i in freqslist],axis=0)\n",
    "                    freqvec.append(freq) \n",
    "                elif freqslist[0] == \"float(0)\":\n",
    "                    freq = float(0)\n",
    "                    freqvec.append(freq)\n",
    "                valueline = 0\n",
    "        freqmat = np.reshape(freqvec,((len(freqvec)//numdemes,numdemes)))\n",
    "    filename = slimoutputfile.split(\".txt\")[0]+parseflag+\".csv\"\n",
    "    filename = timeseries_dir+filename.split(\"output_\")[1]\n",
    "#     np.savetxt(filename, freqmat, delimiter=\",\")\n",
    "    return(freqmat)"
   ]
  },
  {
   "cell_type": "markdown",
   "metadata": {},
   "source": [
    "### Call function for equilibrium frequencies"
   ]
  },
  {
   "cell_type": "code",
   "execution_count": 1,
   "metadata": {},
   "outputs": [
    {
     "ename": "NameError",
     "evalue": "name 'output_grab' is not defined",
     "output_type": "error",
     "traceback": [
      "\u001b[0;31m---------------------------------------------------------------------------\u001b[0m",
      "\u001b[0;31mNameError\u001b[0m                                 Traceback (most recent call last)",
      "\u001b[0;32m<ipython-input-1-6ff9cf03019f>\u001b[0m in \u001b[0;36m<module>\u001b[0;34m()\u001b[0m\n\u001b[1;32m      4\u001b[0m \u001b[0mparseflag\u001b[0m \u001b[0;34m=\u001b[0m \u001b[0;34m\"_parsed\"\u001b[0m\u001b[0;34m\u001b[0m\u001b[0m\n\u001b[1;32m      5\u001b[0m \u001b[0;34m\u001b[0m\u001b[0m\n\u001b[0;32m----> 6\u001b[0;31m \u001b[0mslimoutputfile\u001b[0m \u001b[0;34m=\u001b[0m \u001b[0moutput_grab\u001b[0m\u001b[0;34m(\u001b[0m\u001b[0moutput_dir\u001b[0m\u001b[0;34m,\u001b[0m\u001b[0mnameflag\u001b[0m\u001b[0;34m)\u001b[0m\u001b[0;34m\u001b[0m\u001b[0m\n\u001b[0m\u001b[1;32m      7\u001b[0m \u001b[0;32mfor\u001b[0m \u001b[0mi\u001b[0m \u001b[0;32min\u001b[0m \u001b[0mrange\u001b[0m\u001b[0;34m(\u001b[0m\u001b[0mlen\u001b[0m\u001b[0;34m(\u001b[0m\u001b[0mslimoutputfile\u001b[0m\u001b[0;34m)\u001b[0m\u001b[0;34m)\u001b[0m\u001b[0;34m:\u001b[0m\u001b[0;34m\u001b[0m\u001b[0m\n\u001b[1;32m      8\u001b[0m     \u001b[0mfreqmat\u001b[0m \u001b[0;34m=\u001b[0m \u001b[0mtimeseries_freqvecmake\u001b[0m\u001b[0;34m(\u001b[0m\u001b[0mslimoutputfile\u001b[0m\u001b[0;34m[\u001b[0m\u001b[0mi\u001b[0m\u001b[0;34m]\u001b[0m\u001b[0;34m,\u001b[0m\u001b[0mtimeseries_dir\u001b[0m\u001b[0;34m,\u001b[0m\u001b[0mparseflag\u001b[0m\u001b[0;34m)\u001b[0m\u001b[0;34m\u001b[0m\u001b[0m\n",
      "\u001b[0;31mNameError\u001b[0m: name 'output_grab' is not defined"
     ]
    }
   ],
   "source": [
    "output_dir = '../../data/outputfiles/output_*'\n",
    "timeseries_dir = \"../../data/outputfiles/timeseries/\"\n",
    "nameflag = \"092518test\"\n",
    "parseflag = \"_parsed\"\n",
    "\n",
    "slimoutputfile = output_grab(output_dir,nameflag)\n",
    "for i in range(len(slimoutputfile)):\n",
    "    freqmat = timeseries_freqvecmake(slimoutputfile[i],timeseries_dir,parseflag)\n"
   ]
  },
  {
   "cell_type": "code",
   "execution_count": 6,
   "metadata": {},
   "outputs": [],
   "source": [
    "slimoutputfile = \"../../data/outputfiles/output_numdemes_2_demepopsize_1000_m_0.001_mu_0.001_s_-0.01_100318twodemerun0.txt\""
   ]
  },
  {
   "cell_type": "code",
   "execution_count": 7,
   "metadata": {},
   "outputs": [],
   "source": [
    "out = \"out2\""
   ]
  },
  {
   "cell_type": "code",
   "execution_count": 13,
   "metadata": {},
   "outputs": [
    {
     "ename": "SyntaxError",
     "evalue": "'continue' not properly in loop (<ipython-input-13-edebf0549bd3>, line 14)",
     "output_type": "error",
     "traceback": [
      "\u001b[0;36m  File \u001b[0;32m\"<ipython-input-13-edebf0549bd3>\"\u001b[0;36m, line \u001b[0;32m14\u001b[0m\n\u001b[0;31m    continue\u001b[0m\n\u001b[0m    ^\u001b[0m\n\u001b[0;31mSyntaxError\u001b[0m\u001b[0;31m:\u001b[0m 'continue' not properly in loop\n"
     ]
    }
   ],
   "source": [
    "def timeseries_parser(slimoutputfile, out):\n",
    "\n",
    "    numdemes = int(slimoutputfile.split(\"numdemes_\")[1].split(\"_\")[0])\n",
    "    with open(slimoutputfile) as input_data:\n",
    "        freqvec =[]\n",
    "        valueline = 0\n",
    "\n",
    "        # line = input_data.readline():\n",
    "        # while not line.startswith(\"Deme number:\"):\n",
    "        #     line = input_data.readline()\n",
    "\n",
    "\n",
    "        for line in input_data:\n",
    "            if len(line.split(\": \")) > 1 :  # Skips text before the beginning of the genomes block:\n",
    "                if line.split(\": \")[0] != \"#Elapsed time\":\n",
    "                    valueline = 1\n",
    "                    continue\n",
    "            # Collect total mutation freqs and append to freqvec\n",
    "            if valueline == 1:\n",
    "                freqslist = line.split()\n",
    "                freq = []\n",
    "                if \"float(0)\" in freqslist:\n",
    "                    if len(freqslist) == 1:\n",
    "                        freq = float(0)\n",
    "                    else:\n",
    "                        print(\"Warning bad line:\")\n",
    "                        print(freqslist)\n",
    "                        exit(1)\n",
    "                else:\n",
    "                    freq = np.sum([float(i) for i in freqslist],axis=0)\n",
    "                freqvec.append(freq)\n",
    "                valueline = 0\n",
    "    # Reshape freqvec into matrix indexed by time and deme\n",
    "    freqmat = np.reshape(freqvec,((len(freqvec)//numdemes,numdemes)))\n",
    "    return freqmat\n",
    "    #np.savetxt(out, freqmat, delimiter=\",\")"
   ]
  },
  {
   "cell_type": "code",
   "execution_count": 15,
   "metadata": {
    "scrolled": false
   },
   "outputs": [
    {
     "data": {
      "text/plain": [
       "array([[0.0005, 0.0015],\n",
       "       [0.0005, 0.0025],\n",
       "       [0.0005, 0.004 ],\n",
       "       ...,\n",
       "       [0.05  , 0.0125],\n",
       "       [0.0475, 0.0105],\n",
       "       [0.0485, 0.0105]])"
      ]
     },
     "execution_count": 15,
     "metadata": {},
     "output_type": "execute_result"
    }
   ],
   "source": [
    "timeseries_parser(slimoutputfile,out)"
   ]
  },
  {
   "cell_type": "code",
   "execution_count": 21,
   "metadata": {},
   "outputs": [
    {
     "name": "stdout",
     "output_type": "stream",
     "text": [
      "// Initial random seed:\n",
      "\n"
     ]
    }
   ],
   "source": [
    "with open(slimoutputfile) as input_data:\n",
    "    print(input_data.readline())"
   ]
  },
  {
   "cell_type": "code",
   "execution_count": null,
   "metadata": {},
   "outputs": [],
   "source": [
    "with open(slimoutputfile) as input_data:\n",
    "    freqvec =[]\n",
    "    valueline = 0\n",
    "\n",
    "    line = input_data.readline()\n",
    "    while not line.startswith(\"Deme number:\"):\n",
    "        line = input_data.readline()\n",
    "        valueline = 1"
   ]
  }
 ],
 "metadata": {
  "kernelspec": {
   "display_name": "Python 3",
   "language": "python",
   "name": "python3"
  },
  "language_info": {
   "codemirror_mode": {
    "name": "ipython",
    "version": 3
   },
   "file_extension": ".py",
   "mimetype": "text/x-python",
   "name": "python",
   "nbconvert_exporter": "python",
   "pygments_lexer": "ipython3",
   "version": "3.6.5"
  }
 },
 "nbformat": 4,
 "nbformat_minor": 2
}
