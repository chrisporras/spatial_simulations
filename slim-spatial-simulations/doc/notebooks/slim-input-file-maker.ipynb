{
 "cells": [
  {
   "cell_type": "markdown",
   "metadata": {},
   "source": [
    "# `SLiM` input file maker"
   ]
  },
  {
   "cell_type": "code",
   "execution_count": 2,
   "metadata": {},
   "outputs": [],
   "source": [
    "import numpy as np\n",
    "import csv\n",
    "import sys\n",
    "import click\n",
    "import os"
   ]
  },
  {
   "cell_type": "markdown",
   "metadata": {},
   "source": [
    "## Write .csv with migration from src to dest deme with symmetric migration rate m:"
   ]
  },
  {
   "cell_type": "code",
   "execution_count": 3,
   "metadata": {},
   "outputs": [
    {
     "ename": "SyntaxError",
     "evalue": "invalid syntax (<ipython-input-3-befdfa9ace4b>, line 4)",
     "output_type": "error",
     "traceback": [
      "\u001b[0;36m  File \u001b[0;32m\"<ipython-input-3-befdfa9ace4b>\"\u001b[0;36m, line \u001b[0;32m4\u001b[0m\n\u001b[0;31m    script, numdemes, demepopsize, m , mu , s, nameflag = sys.argv\u001b[0m\n\u001b[0m         ^\u001b[0m\n\u001b[0;31mSyntaxError\u001b[0m\u001b[0;31m:\u001b[0m invalid syntax\n"
     ]
    }
   ],
   "source": [
    "# #Parameters from sys\n",
    "# @click.command()\n",
    "\n",
    "# script, numdemes, demepopsize, m , mu , s, nameflag = sys.argv"
   ]
  },
  {
   "cell_type": "markdown",
   "metadata": {},
   "source": [
    "### Create migcsvwriter()"
   ]
  },
  {
   "cell_type": "code",
   "execution_count": 6,
   "metadata": {},
   "outputs": [],
   "source": [
    "def migcsvwriter(numdemes, demepopsize, m, mu, s, nameflag = ''):\n",
    "    paramstring = (\"// ,\" + str(numdemes) + \",\" + str(demepopsize) + \",\" + str(mu) + \",\" + str(s) + \",\" + \"numdemes, demempopsize, mu, s\\n\")\n",
    "    filename = ('migration'+'_numdemes_' + str(numdemes) + '_demepopsize_' +str(demepopsize)+ \"_m_\" + str(m) + \"_mu_\" + str(mu) + \"_s_\" + str(s) + \"_\" + str(nameflag) +'.csv')\n",
    "    with open(filename, 'w', newline='') as csvfile:\n",
    "        csvfile.write(paramstring)\n",
    "        fieldnames = ['<src>', '<dest>','<m>']\n",
    "        writer = csv.DictWriter(csvfile, fieldnames=fieldnames)\n",
    "        src = np.arange(numdemes)\n",
    "        migmat = np.zeros((numdemes+1,numdemes+1))\n",
    "        migmat[0,numdemes - 1] = 1\n",
    "        migmat[numdemes - 1, 0] = 1\n",
    "        migmat[src,src+1] = 1\n",
    "        migmat[src+1,src] = 1\n",
    "        migmat = migmat[:numdemes,:numdemes]\n",
    "        migposs = np.where(migmat != 0)\n",
    "        srcposs = migposs[0] + 1\n",
    "        destposs = migposs[1] + 1\n",
    "        if numdemes > 2:\n",
    "            for i in np.arange(len(src)):\n",
    "                writer.writerow({fieldnames[0]: srcposs[i], fieldnames[1]: destposs[i],fieldnames[2]: str(m)})\n",
    "        else:\n",
    "            for i in np.arange(2*len(src)):\n",
    "                writer.writerow({fieldnames[0]: srcposs[i], fieldnames[1]: destposs[i],fieldnames[2]: str(m)})"
   ]
  },
  {
   "cell_type": "markdown",
   "metadata": {},
   "source": [
    "### Call migcsvwriter()"
   ]
  },
  {
   "cell_type": "code",
   "execution_count": 16,
   "metadata": {},
   "outputs": [],
   "source": [
    "numdemes = 2 #must be > 2\n",
    "demepopsize = 1000\n",
    "m = 0.0001\n",
    "mu = [1e-5]\n",
    "s = [-1e-3]\n",
    "\n",
    "nameflag = \"test\"\n",
    "\n",
    "\n",
    "# migcsvwriter(numdemes,demepopsize, m, mu, s, nameflag = nameflag)"
   ]
  },
  {
   "cell_type": "code",
   "execution_count": 21,
   "metadata": {},
   "outputs": [
    {
     "name": "stdout",
     "output_type": "stream",
     "text": [
      "[0 1]\n"
     ]
    }
   ],
   "source": [
    "paramstring = (\"// ,\" + str(numdemes) + \",\" + str(demepopsize) + \",\" + str(mu) + \",\" + str(s) + \",\" + \"numdemes, demempopsize, mu, s\\n\")\n",
    "filename = ('migration'+'_numdemes_' + str(numdemes) + '_demepopsize_' +str(demepopsize)+ \"_m_\" + str(m) + \"_mu_\" + str(mu) + \"_s_\" + str(s) + \"_\" + str(nameflag) +'.csv')\n",
    "with open(filename, 'w', newline='') as csvfile:\n",
    "    csvfile.write(paramstring)\n",
    "    fieldnames = ['<src>', '<dest>','<m>']\n",
    "    writer = csv.DictWriter(csvfile, fieldnames=fieldnames)\n",
    "    src = np.arange(numdemes)\n",
    "    migmat = np.zeros((numdemes+1,numdemes+1))\n",
    "    migmat[0,numdemes - 1] = 1\n",
    "    migmat[numdemes - 1, 0] = 1\n",
    "    migmat[src,src+1] = 1\n",
    "    migmat[src+1,src] = 1\n",
    "    migmat = migmat[:numdemes,:numdemes]\n",
    "    migposs = np.where(migmat != 0)\n",
    "    srcposs = migposs[0] + 1\n",
    "    destposs = migposs[1] + 1\n",
    "    if numdemes > 2:\n",
    "        for i in np.arange(len(src)):\n",
    "            writer.writerow({fieldnames[0]: srcposs[i], fieldnames[1]: destposs[i],fieldnames[2]: str(m)})\n",
    "    else:\n",
    "        for i in np.arange(2*len(src)):\n",
    "            writer.writerow({fieldnames[0]: srcposs[i], fieldnames[1]: destposs[i],fieldnames[2]: str(m)})"
   ]
  },
  {
   "cell_type": "code",
   "execution_count": null,
   "metadata": {},
   "outputs": [],
   "source": []
  }
 ],
 "metadata": {
  "kernelspec": {
   "display_name": "Python 3",
   "language": "python",
   "name": "python3"
  },
  "language_info": {
   "codemirror_mode": {
    "name": "ipython",
    "version": 3
   },
   "file_extension": ".py",
   "mimetype": "text/x-python",
   "name": "python",
   "nbconvert_exporter": "python",
   "pygments_lexer": "ipython3",
   "version": "3.6.5"
  }
 },
 "nbformat": 4,
 "nbformat_minor": 2
}
