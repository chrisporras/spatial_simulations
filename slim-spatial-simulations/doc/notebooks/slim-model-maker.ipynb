{
 "cells": [
  {
   "cell_type": "markdown",
   "metadata": {},
   "source": [
    "## Write `SLiM` model script with mig.csv filename"
   ]
  },
  {
   "cell_type": "code",
   "execution_count": null,
   "metadata": {},
   "outputs": [],
   "source": [
    "import numpy as np\n",
    "import csv\n",
    "import sys"
   ]
  },
  {
   "cell_type": "markdown",
   "metadata": {},
   "source": [
    "### Parameters from sys"
   ]
  },
  {
   "cell_type": "code",
   "execution_count": null,
   "metadata": {},
   "outputs": [],
   "source": [
    "script, numdemes, demepopsize, m , mu , s, nameflag = sys.argv"
   ]
  },
  {
   "cell_type": "markdown",
   "metadata": {},
   "source": [
    "### Recreate filename from parameters"
   ]
  },
  {
   "cell_type": "code",
   "execution_count": null,
   "metadata": {},
   "outputs": [],
   "source": [
    "migfilename = ('migration'+'_numdemes_' + str(numdemes) + '_demepopsize_' +str(demepopsize)+ \"_m_\" + str(m) + \"_mu_\" + str(mu) + \"_s_\" + str(s) + \"_\" + str(nameflag) +'.csv')\n",
    "\n",
    "modelfilename = ('stepstonemodel' + '_numdemes_' + str(numdemes) + '_demepopsize_' +str(demepopsize)+ \"_m_\" + str(m) + \"_mu_\" + str(mu) + \"_s_\" + str(s) + \"_\" + str(nameflag))"
   ]
  },
  {
   "cell_type": "markdown",
   "metadata": {},
   "source": [
    "### Read model template, add line with migfilename and write modelfile"
   ]
  },
  {
   "cell_type": "code",
   "execution_count": null,
   "metadata": {},
   "outputs": [],
   "source": [
    "template_fn = \"stepstonemodel_template.txt\"\n",
    "with open(template_fn) as template_file:\n",
    "    template_lines = template_file.readlines()\n",
    "template_lines.insert(1, \" filename = asString(\" + migfilename + \");\\n\")\n",
    "modelstring = (\"\".join(template_lines))\n",
    "\n",
    "modeltxtfile = open(modelfilename, \"w\")\n",
    "modeltxtfile.write(modelstring)\n",
    "modeltxtfile.close()"
   ]
  }
 ],
 "metadata": {
  "kernelspec": {
   "display_name": "Python 3",
   "language": "python",
   "name": "python3"
  },
  "language_info": {
   "codemirror_mode": {
    "name": "ipython",
    "version": 3
   },
   "file_extension": ".py",
   "mimetype": "text/x-python",
   "name": "python",
   "nbconvert_exporter": "python",
   "pygments_lexer": "ipython3",
   "version": "3.6.5"
  }
 },
 "nbformat": 4,
 "nbformat_minor": 2
}
