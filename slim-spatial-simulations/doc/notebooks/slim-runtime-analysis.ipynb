{
 "cells": [
  {
   "cell_type": "markdown",
   "metadata": {},
   "source": [
    "# Extract runtimes from `SLiM` ouput files"
   ]
  },
  {
   "cell_type": "code",
   "execution_count": 2,
   "metadata": {},
   "outputs": [],
   "source": [
    "import numpy as np\n",
    "import matplotlib.pyplot as plt"
   ]
  },
  {
   "cell_type": "code",
   "execution_count": 179,
   "metadata": {},
   "outputs": [],
   "source": [
    "#def readslimruntime(numout):\n",
    "numout = 51\n",
    "\n",
    "def slimelapstime(numout):\n",
    "    with open(\"out\" + str(numout) + \".txt\") as input_data:\n",
    "        for line in input_data:\n",
    "            if line.split(\": \")[0] == \"#Elapsed time\":\n",
    "                elapstime = float(line.split(\": \")[1])\n",
    "                break\n",
    "    return elapstime"
   ]
  },
  {
   "cell_type": "markdown",
   "metadata": {},
   "source": [
    "### Check linearity of `SLiM` runtime vs. numdemes"
   ]
  },
  {
   "cell_type": "code",
   "execution_count": 216,
   "metadata": {
    "scrolled": true
   },
   "outputs": [],
   "source": [
    "numout = np.append(np.arange(51,60),[510,50,100])\n",
    "elapstime = np.arange(len(numout))\n",
    "\n",
    "for i in elapstime:\n",
    "    elapstime[i] = slimelapstime(numout[i])\n",
    "    "
   ]
  },
  {
   "cell_type": "code",
   "execution_count": 217,
   "metadata": {
    "scrolled": false
   },
   "outputs": [
    {
     "name": "stdout",
     "output_type": "stream",
     "text": [
      "numdemes [  7   9  11  13  15  17  19  21  23  25  50 100]\n",
      "elapstime [ 18  25  36  42  52  65  73  83  96 103 223 477]\n"
     ]
    },
    {
     "data": {
      "text/plain": [
       "Text(0.5,1,'`SLiM` elapsed time vs. numdemes ( tau = 20,000 )')"
      ]
     },
     "execution_count": 217,
     "metadata": {},
     "output_type": "execute_result"
    },
    {
     "data": {
      "image/png": "[encoded data removed]",
      "text/plain": [
       "<Figure size 432x288 with 1 Axes>"
      ]
     },
     "metadata": {},
     "output_type": "display_data"
    }
   ],
   "source": [
    "numdemes= np.append(np.arange(7,27,2),[50,100])\n",
    "print(\"numdemes\",numdemes)\n",
    "plt.plot(numdemes,elapstime)\n",
    "print(\"elapstime\", elapstime)\n",
    "plt.title(\"`SLiM` elapsed time vs. numdemes ( tau = 20,000 )\")"
   ]
  },
  {
   "cell_type": "markdown",
   "metadata": {},
   "source": [
    "### Find slope from linear regression"
   ]
  },
  {
   "cell_type": "code",
   "execution_count": 4,
   "metadata": {
    "scrolled": true
   },
   "outputs": [
    {
     "data": {
      "text/plain": [
       "array([  4.94233042, -19.51500827])"
      ]
     },
     "execution_count": 4,
     "metadata": {},
     "output_type": "execute_result"
    }
   ],
   "source": [
    "numdemes = [7,9,11,13,14,17,19,21,23,25,50,100]\n",
    "elapstime = [18,25,36,42,52,65,73,83,96,103,223,477]\n",
    "\n",
    "np.polyfit(numdemes,elapstime,1)"
   ]
  },
  {
   "cell_type": "code",
   "execution_count": 16,
   "metadata": {},
   "outputs": [
    {
     "data": {
      "text/plain": [
       "array([0.5       , 0.        , 0.02777778, 0.21428571, 0.17307692,\n",
       "       0.        , 0.05479452, 0.04819277, 0.01041667, 0.03883495,\n",
       "       0.21973094, 0.01886792])"
      ]
     },
     "execution_count": 16,
     "metadata": {},
     "output_type": "execute_result"
    }
   ],
   "source": [
    "x = np.append(np.arange(7,27,2),[50,100])\n",
    "y = 5*x - 20\n",
    "(y - elapstime)**2 /elapstime"
   ]
  }
 ],
 "metadata": {
  "kernelspec": {
   "display_name": "Python 3",
   "language": "python",
   "name": "python3"
  },
  "language_info": {
   "codemirror_mode": {
    "name": "ipython",
    "version": 3
   },
   "file_extension": ".py",
   "mimetype": "text/x-python",
   "name": "python",
   "nbconvert_exporter": "python",
   "pygments_lexer": "ipython3",
   "version": "3.6.5"
  }
 },
 "nbformat": 4,
 "nbformat_minor": 2
}
