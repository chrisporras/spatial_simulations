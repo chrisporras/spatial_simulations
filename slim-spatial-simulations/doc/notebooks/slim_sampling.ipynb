{
 "cells": [
  {
   "cell_type": "markdown",
   "metadata": {},
   "source": [
    "# `SLiM` sampling"
   ]
  },
  {
   "cell_type": "markdown",
   "metadata": {},
   "source": [
    "\"\"\"\n",
    "Working doc for calculating sampling frequencies from simulated frequency landscapes\n",
    "\"\"\""
   ]
  },
  {
   "cell_type": "code",
   "execution_count": 1,
   "metadata": {},
   "outputs": [],
   "source": [
    "import numpy as np\n",
    "import matplotlib.pyplot as plt\n",
    "import glob\n",
    "from numpy import genfromtxt\n",
    "%matplotlib inline"
   ]
  },
  {
   "cell_type": "markdown",
   "metadata": {},
   "source": [
    "## Functions to parse `SLiM` outputs for replicate simulations"
   ]
  },
  {
   "cell_type": "markdown",
   "metadata": {},
   "source": [
    "### Define $outputparse()$ to collect `SLiM` output file names with $glob()$ "
   ]
  },
  {
   "cell_type": "code",
   "execution_count": 2,
   "metadata": {},
   "outputs": [],
   "source": [
    "def outputparse(output_dir, label):\n",
    "    allslimoutputfile = glob.glob(output_dir)\n",
    "    slimoutputfile = []\n",
    "    for i in range(len(allslimoutputfile)):\n",
    "        if len(allslimoutputfile[i].split(label)) > 1:\n",
    "            slimoutputfile.append(allslimoutputfile[i])\n",
    "    return slimoutputfile"
   ]
  },
  {
   "cell_type": "markdown",
   "metadata": {},
   "source": [
    "### Collect filenames from freqvecreps .csv in slimoutputfiles"
   ]
  },
  {
   "cell_type": "code",
   "execution_count": 3,
   "metadata": {},
   "outputs": [],
   "source": [
    "output_dir = \"../../data/output/concat_reps/*\"\n",
    "label = \"test\"\n",
    "output = outputparse(output_dir,label)"
   ]
  },
  {
   "cell_type": "code",
   "execution_count": 4,
   "metadata": {},
   "outputs": [
    {
     "data": {
      "text/plain": [
       "['../../data/output/concat_reps/concat_reps_numdemes_4_demepopsize_1000_m_1e-05_mu_0.001_s_-0.01_testA.csv',\n",
       " '../../data/output/concat_reps/concat_reps_numdemes_3_demepopsize_1000_m_1e-05_mu_0.001_s_-0.01_testA.csv',\n",
       " '../../data/output/concat_reps/concat_reps_numdemes_4_demepopsize_1000_m_1e-05_mu_0.001_s_-0.01_testB.csv',\n",
       " '../../data/output/concat_reps/concat_reps_numdemes_5_demepopsize_1000_m_1e-05_mu_0.001_s_-0.01_test.csv',\n",
       " '../../data/output/concat_reps/concat_reps_numdemes_4_demepopsize_1000_m_1e-05_mu_0.001_s_-0.01_test.csv']"
      ]
     },
     "execution_count": 4,
     "metadata": {},
     "output_type": "execute_result"
    }
   ],
   "source": [
    "output"
   ]
  },
  {
   "cell_type": "code",
   "execution_count": 5,
   "metadata": {
    "scrolled": true
   },
   "outputs": [
    {
     "data": {
      "text/plain": [
       "(4, 4)"
      ]
     },
     "execution_count": 5,
     "metadata": {},
     "output_type": "execute_result"
    }
   ],
   "source": [
    "genfromtxt(output[0],delimiter=\",\").shape"
   ]
  },
  {
   "cell_type": "markdown",
   "metadata": {},
   "source": [
    "### Define $\\sigma$ sampling parameter"
   ]
  },
  {
   "cell_type": "code",
   "execution_count": 7,
   "metadata": {},
   "outputs": [
    {
     "name": "stdout",
     "output_type": "stream",
     "text": [
      "[0.043  0.032  0.0505 0.076 ]\n",
      "[0.04183333 0.05283333 0.0565     0.05033333]\n"
     ]
    },
    {
     "data": {
      "image/png": "[encoded data removed]",
      "text/plain": [
       "<Figure size 432x288 with 1 Axes>"
      ]
     },
     "metadata": {},
     "output_type": "display_data"
    }
   ],
   "source": [
    "from numpy.fft import fft, ifft\n",
    "\n",
    "def periodic_corr(x, y):\n",
    "    \"\"\"\n",
    "    Periodic correlation, implemented using the FFT.\n",
    "    x and y must be real sequences with the same length.\n",
    "    \"\"\"\n",
    "    return ifft(fft(x) * fft(y).conj()).real\n",
    "\t\n",
    "# Example usage:\n",
    "L = len(freqvec)\n",
    "\n",
    "## Define sampling function (rectangular here)\n",
    "w = 3\n",
    "phi = np.ones(w)/w\n",
    "phi = np.pad(phi,(0,L-w),mode='constant')\n",
    "\n",
    "## Example data: peaked at one entry.\n",
    "print(freqvec)\n",
    "## Convolve data with sampling function.\n",
    "samples = periodic_corr(freqvec, phi)\n",
    "print(samples)\n",
    "plt.plot(samples, '.')\n",
    "\n",
    "\n",
    "### Collect sampled frequencies for all sigma:\n",
    "\n",
    "F = periodic_corr(all_freqvec,[phi]*all_freqvec.shape[1])"
   ]
  },
  {
   "cell_type": "code",
   "execution_count": 8,
   "metadata": {},
   "outputs": [
    {
     "data": {
      "text/plain": [
       "[<matplotlib.lines.Line2D at 0x112debdd8>]"
      ]
     },
     "execution_count": 8,
     "metadata": {},
     "output_type": "execute_result"
    },
    {
     "data": {
      "image/png": "[encoded data removed]",
      "text/plain": [
       "<Figure size 432x288 with 1 Axes>"
      ]
     },
     "metadata": {},
     "output_type": "display_data"
    }
   ],
   "source": [
    "x = np.arange(0,1,0.01)\n",
    "y = np.sin(2*np.pi*x) + np.random.normal(size=len(x))/2\n",
    "plt.plot(x,y, '.')\n",
    "w = 5\n",
    "phi = np.ones(w)/w\n",
    "phi = np.pad(phi,(0,len(x)-w),mode='constant')\n",
    "plt.plot(x, periodic_corr(y,phi), '-')\n",
    "\n",
    "from scipy.ndimage import gaussian_filter1d\n",
    "plt.plot(x, gaussian_filter1d(y,sigma=5))"
   ]
  },
  {
   "cell_type": "markdown",
   "metadata": {},
   "source": [
    "# Incorparate into src/sampling:"
   ]
  },
  {
   "cell_type": "code",
   "execution_count": 39,
   "metadata": {},
   "outputs": [],
   "source": [
    "sigma =2"
   ]
  },
  {
   "cell_type": "code",
   "execution_count": 40,
   "metadata": {},
   "outputs": [],
   "source": [
    "def periodic_corr(x,y):\n",
    "    \"\"\"\n",
    "    Periodic correlation, implemented using the FFT.\n",
    "    x and y must be real sequences with the same length.\n",
    "    \"\"\"\n",
    "    return ifft(fft(x) * fft(y).conj()).real"
   ]
  },
  {
   "cell_type": "code",
   "execution_count": 41,
   "metadata": {},
   "outputs": [],
   "source": [
    "def unif_samp_circ_conv(freq_arr,sigma):\n",
    "    L = freq_arr.shape[1]\n",
    "    numreps = freq_arr.shape[0]\n",
    "    # Create vector of phi with len(L) for periodic correlation\n",
    "    phi = np.ones(sigma)/sigma\n",
    "    phi = np.pad(phi,(0,L-sigma),mode='constant')\n",
    "    # Pre-allocate array of sampled aafrequencies\n",
    "    F = np.zeros((numreps,L))\n",
    "    # Iterate over replicates to populate F\n",
    "    for i in np.arange(numreps):\n",
    "        F[i] = periodic_corr(freq_arr[i],[phi])\n",
    "    return F"
   ]
  },
  {
   "cell_type": "code",
   "execution_count": 42,
   "metadata": {},
   "outputs": [
    {
     "data": {
      "text/plain": [
       "array([[0.5580829 , 0.33263739, 0.50864147, 0.51502809, 0.43692956],\n",
       "       [0.37321171, 0.77222547, 0.62330735, 0.41784261, 0.20971558],\n",
       "       [0.53060276, 0.9527493 , 0.66346439, 0.55415803, 0.41222794],\n",
       "       [0.4529474 , 0.63236066, 0.50574885, 0.20644044, 0.2173891 ],\n",
       "       [0.80386436, 0.45196377, 0.42076156, 0.40077685, 0.38501488],\n",
       "       [0.36402613, 0.54398686, 0.52656278, 0.62064101, 0.63114512]])"
      ]
     },
     "execution_count": 42,
     "metadata": {},
     "output_type": "execute_result"
    }
   ],
   "source": [
    "unif_samp_circ_conv(freq_arr,sigma)"
   ]
  },
  {
   "cell_type": "code",
   "execution_count": 60,
   "metadata": {},
   "outputs": [],
   "source": [
    "import scipy.ndimage as sp"
   ]
  },
  {
   "cell_type": "code",
   "execution_count": 43,
   "metadata": {},
   "outputs": [],
   "source": [
    "from scipy.ndimage import uniform_filter1d"
   ]
  },
  {
   "cell_type": "code",
   "execution_count": 61,
   "metadata": {},
   "outputs": [
    {
     "data": {
      "text/plain": [
       "array([[0.65598845, 0.46017735, 0.20509742, 0.81218552, 0.21787066],\n",
       "       [0.01616655, 0.73025686, 0.81419408, 0.43242061, 0.4032646 ],\n",
       "       [0.09938776, 0.96181776, 0.94368084, 0.38324794, 0.72506812],\n",
       "       [0.33728425, 0.56861055, 0.69611076, 0.31538693, 0.09749395],\n",
       "       [0.75690017, 0.85082854, 0.053099  , 0.78842412, 0.01312958],\n",
       "       [0.35710615, 0.3709461 , 0.71702762, 0.33609794, 0.90518408]])"
      ]
     },
     "execution_count": 61,
     "metadata": {},
     "output_type": "execute_result"
    }
   ],
   "source": [
    "freq_arr"
   ]
  },
  {
   "cell_type": "code",
   "execution_count": 62,
   "metadata": {},
   "outputs": [
    {
     "data": {
      "text/plain": [
       "array([[0.43692956, 0.5580829 , 0.33263739, 0.50864147, 0.51502809],\n",
       "       [0.20971558, 0.37321171, 0.77222547, 0.62330735, 0.41784261],\n",
       "       [0.41222794, 0.53060276, 0.9527493 , 0.66346439, 0.55415803],\n",
       "       [0.2173891 , 0.4529474 , 0.63236066, 0.50574885, 0.20644044],\n",
       "       [0.38501488, 0.80386436, 0.45196377, 0.42076156, 0.40077685],\n",
       "       [0.63114512, 0.36402613, 0.54398686, 0.52656278, 0.62064101]])"
      ]
     },
     "execution_count": 62,
     "metadata": {},
     "output_type": "execute_result"
    }
   ],
   "source": [
    "uniform_filter1d(freq_arr,size = sigma,mode = \"wrap\")"
   ]
  },
  {
   "cell_type": "code",
   "execution_count": 63,
   "metadata": {},
   "outputs": [
    {
     "name": "stdout",
     "output_type": "stream",
     "text": [
      "[[0. 0. 0. 0. 1. 0. 0. 0. 0. 0.]\n",
      " [0. 0. 0. 0. 0. 1. 0. 0. 0. 0.]]\n"
     ]
    }
   ],
   "source": [
    "unit_impulse = np.zeros((2,10))\n",
    "unit_impulse[0,4] = 1\n",
    "unit_impulse[1,5] = 1\n",
    "print(unit_impulse)"
   ]
  },
  {
   "cell_type": "code",
   "execution_count": 64,
   "metadata": {},
   "outputs": [
    {
     "data": {
      "text/plain": [
       "[<matplotlib.lines.Line2D at 0xb1bc44c18>]"
      ]
     },
     "execution_count": 64,
     "metadata": {},
     "output_type": "execute_result"
    },
    {
     "data": {
      "image/png": "[encoded data removed]",
      "text/plain": [
       "<Figure size 432x288 with 1 Axes>"
      ]
     },
     "metadata": {},
     "output_type": "display_data"
    }
   ],
   "source": [
    "plt.plot(unif_samp_circ_conv(unit_impulse,sigma=5)[0],'.')"
   ]
  },
  {
   "cell_type": "code",
   "execution_count": 65,
   "metadata": {},
   "outputs": [
    {
     "data": {
      "text/plain": [
       "array([[0. , 0. , 0.2, 0.2, 0.2, 0.2, 0.2, 0. , 0. , 0. ],\n",
       "       [0. , 0. , 0. , 0.2, 0.2, 0.2, 0.2, 0.2, 0. , 0. ]])"
      ]
     },
     "execution_count": 65,
     "metadata": {},
     "output_type": "execute_result"
    }
   ],
   "source": [
    "uniform_filter1d(unit_impulse,size = 5,mode = \"wrap\")"
   ]
  },
  {
   "cell_type": "code",
   "execution_count": 67,
   "metadata": {},
   "outputs": [
    {
     "name": "stdout",
     "output_type": "stream",
     "text": [
      "2.79 µs ± 57.2 ns per loop (mean ± std. dev. of 7 runs, 100000 loops each)\n"
     ]
    }
   ],
   "source": [
    "%%timeit\n",
    "uniform_filter1d(unit_impulse, size=5, mode='wrap')"
   ]
  },
  {
   "cell_type": "code",
   "execution_count": 68,
   "metadata": {},
   "outputs": [
    {
     "name": "stdout",
     "output_type": "stream",
     "text": [
      "71.8 µs ± 1.25 µs per loop (mean ± std. dev. of 7 runs, 10000 loops each)\n"
     ]
    }
   ],
   "source": [
    "%%timeit\n",
    "unif_samp_circ_conv(unit_impulse,sigma=5)"
   ]
  },
  {
   "cell_type": "code",
   "execution_count": null,
   "metadata": {},
   "outputs": [],
   "source": []
  },
  {
   "cell_type": "code",
   "execution_count": null,
   "metadata": {},
   "outputs": [],
   "source": []
  },
  {
   "cell_type": "code",
   "execution_count": 74,
   "metadata": {},
   "outputs": [
    {
     "data": {
      "text/plain": [
       "array([[0. , 0. , 0.2, 0.2, 0.2, 0.2, 0.2, 0. , 0. , 0. ],\n",
       "       [0. , 0. , 0. , 0.2, 0.2, 0.2, 0.2, 0.2, 0. , 0. ]])"
      ]
     },
     "execution_count": 74,
     "metadata": {},
     "output_type": "execute_result"
    }
   ],
   "source": [
    "uniform_filter1d(unit_impulse,size=5,mode=\"wrap\")"
   ]
  },
  {
   "cell_type": "code",
   "execution_count": null,
   "metadata": {},
   "outputs": [],
   "source": []
  }
 ],
 "metadata": {
  "kernelspec": {
   "display_name": "Python 3",
   "language": "python",
   "name": "python3"
  },
  "language_info": {
   "codemirror_mode": {
    "name": "ipython",
    "version": 3
   },
   "file_extension": ".py",
   "mimetype": "text/x-python",
   "name": "python",
   "nbconvert_exporter": "python",
   "pygments_lexer": "ipython3",
   "version": "3.6.5"
  }
 },
 "nbformat": 4,
 "nbformat_minor": 2
}
